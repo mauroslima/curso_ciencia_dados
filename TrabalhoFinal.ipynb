{
 "cells": [
  {
   "cell_type": "markdown",
   "metadata": {},
   "source": [
    "## Trabalho Final - Ciência de Dados - Enap / 2020"
   ]
  },
  {
   "cell_type": "markdown",
   "metadata": {},
   "source": [
    "### Apresentação do Dataset"
   ]
  },
  {
   "cell_type": "code",
   "execution_count": null,
   "metadata": {
    "deletable": false,
    "nbgrader": {
     "cell_type": "code",
     "checksum": "df725c16c2d49add1eb9775d05df2bf4",
     "grade": true,
     "grade_id": "cell-747db8f94c086679",
     "locked": false,
     "points": 1,
     "schema_version": 3,
     "solution": true,
     "task": false
    }
   },
   "outputs": [],
   "source": [
    "#Dados sobre as despesas cobertas pela Cota para Exercício da Atividade Parlamentar de cada deputado.\n",
    "#A cota parlamentar é o valor que os membros do Poder Legislativo têm direito a receber para cobrir \n",
    "#despesas em função da sua atividade. O pagamento da cota parlamentar é realizado através de \n",
    "#reembolso, ou seja, o político gasta dentro das regras e depois entrega a nota fiscal no órgão \n",
    "#interno definido pela Casa, sendo essa a comprovação de que o gasto está de acordo com as normas\n"
   ]
  },
  {
   "cell_type": "markdown",
   "metadata": {},
   "source": [
    "#### Link para Download do Dataset"
   ]
  },
  {
   "cell_type": "code",
   "execution_count": null,
   "metadata": {},
   "outputs": [],
   "source": [
    "# Dados disponibilizados em https://dadosabertos.camara.leg.br/swagger/api.html#staticfile, acessados\n",
    "# em 28/11/2020\n",
    "# https://github.com/mauroslima/dados/raw/main/2020.xlsx\n",
    "# https://github.com/mauroslima/dados/raw/main/proposicoes_2020.csv"
   ]
  },
  {
   "cell_type": "markdown",
   "metadata": {},
   "source": [
    "### Motivação Pessoal"
   ]
  },
  {
   "cell_type": "code",
   "execution_count": null,
   "metadata": {
    "deletable": false,
    "nbgrader": {
     "cell_type": "code",
     "checksum": "d88b06e235435f144aa28d716c84bb7c",
     "grade": true,
     "grade_id": "cell-78e97c9cbf087543",
     "locked": false,
     "points": 1,
     "schema_version": 3,
     "solution": true,
     "task": false
    }
   },
   "outputs": [],
   "source": [
    "# YOUR CODE HERE\n",
    "raise NotImplementedError()"
   ]
  },
  {
   "cell_type": "markdown",
   "metadata": {},
   "source": [
    "### Investigação"
   ]
  },
  {
   "cell_type": "code",
   "execution_count": 126,
   "metadata": {},
   "outputs": [],
   "source": [
    "import pandas as pd\n",
    "import numpy as np\n",
    "import matplotlib.pyplot as plt \n",
    "import seaborn as sns \n",
    "sns.set()"
   ]
  },
  {
   "cell_type": "code",
   "execution_count": 205,
   "metadata": {},
   "outputs": [
    {
     "data": {
      "text/html": [
       "<div>\n",
       "<style scoped>\n",
       "    .dataframe tbody tr th:only-of-type {\n",
       "        vertical-align: middle;\n",
       "    }\n",
       "\n",
       "    .dataframe tbody tr th {\n",
       "        vertical-align: top;\n",
       "    }\n",
       "\n",
       "    .dataframe thead th {\n",
       "        text-align: right;\n",
       "    }\n",
       "</style>\n",
       "<table border=\"1\" class=\"dataframe\">\n",
       "  <thead>\n",
       "    <tr style=\"text-align: right;\">\n",
       "      <th></th>\n",
       "      <th>id_proposicao</th>\n",
       "      <th>id_deputado</th>\n",
       "      <th>nome_deputado</th>\n",
       "      <th>partido</th>\n",
       "      <th>UF</th>\n",
       "    </tr>\n",
       "  </thead>\n",
       "  <tbody>\n",
       "    <tr>\n",
       "      <th>0</th>\n",
       "      <td>2265669</td>\n",
       "      <td>178970</td>\n",
       "      <td>João Daniel</td>\n",
       "      <td>PT</td>\n",
       "      <td>SE</td>\n",
       "    </tr>\n",
       "    <tr>\n",
       "      <th>1</th>\n",
       "      <td>2265668</td>\n",
       "      <td>178970</td>\n",
       "      <td>João Daniel</td>\n",
       "      <td>PT</td>\n",
       "      <td>SE</td>\n",
       "    </tr>\n",
       "    <tr>\n",
       "      <th>2</th>\n",
       "      <td>2265667</td>\n",
       "      <td>204488</td>\n",
       "      <td>Célio Studart</td>\n",
       "      <td>PV</td>\n",
       "      <td>CE</td>\n",
       "    </tr>\n",
       "    <tr>\n",
       "      <th>3</th>\n",
       "      <td>2265666</td>\n",
       "      <td>66828</td>\n",
       "      <td>Fausto Pinato</td>\n",
       "      <td>PP</td>\n",
       "      <td>SP</td>\n",
       "    </tr>\n",
       "    <tr>\n",
       "      <th>4</th>\n",
       "      <td>2265665</td>\n",
       "      <td>133439</td>\n",
       "      <td>André Figueiredo</td>\n",
       "      <td>PDT</td>\n",
       "      <td>CE</td>\n",
       "    </tr>\n",
       "    <tr>\n",
       "      <th>...</th>\n",
       "      <td>...</td>\n",
       "      <td>...</td>\n",
       "      <td>...</td>\n",
       "      <td>...</td>\n",
       "      <td>...</td>\n",
       "    </tr>\n",
       "    <tr>\n",
       "      <th>50365</th>\n",
       "      <td>2236240</td>\n",
       "      <td>204534</td>\n",
       "      <td>Tabata Amaral</td>\n",
       "      <td>PDT</td>\n",
       "      <td>SP</td>\n",
       "    </tr>\n",
       "    <tr>\n",
       "      <th>50366</th>\n",
       "      <td>2236238</td>\n",
       "      <td>73531</td>\n",
       "      <td>Ivan Valente</td>\n",
       "      <td>PSOL</td>\n",
       "      <td>SP</td>\n",
       "    </tr>\n",
       "    <tr>\n",
       "      <th>50371</th>\n",
       "      <td>2236222</td>\n",
       "      <td>204429</td>\n",
       "      <td>João H. Campos</td>\n",
       "      <td>PSB</td>\n",
       "      <td>PE</td>\n",
       "    </tr>\n",
       "    <tr>\n",
       "      <th>50374</th>\n",
       "      <td>2116186</td>\n",
       "      <td>178956</td>\n",
       "      <td>Mariana Carvalho</td>\n",
       "      <td>PSDB</td>\n",
       "      <td>RO</td>\n",
       "    </tr>\n",
       "    <tr>\n",
       "      <th>50375</th>\n",
       "      <td>2077498</td>\n",
       "      <td>141383</td>\n",
       "      <td>Antonio Bulhões</td>\n",
       "      <td>PRB</td>\n",
       "      <td>SP</td>\n",
       "    </tr>\n",
       "  </tbody>\n",
       "</table>\n",
       "<p>42857 rows × 5 columns</p>\n",
       "</div>"
      ],
      "text/plain": [
       "       id_proposicao  id_deputado     nome_deputado partido  UF\n",
       "0            2265669       178970       João Daniel      PT  SE\n",
       "1            2265668       178970       João Daniel      PT  SE\n",
       "2            2265667       204488     Célio Studart      PV  CE\n",
       "3            2265666        66828     Fausto Pinato      PP  SP\n",
       "4            2265665       133439  André Figueiredo     PDT  CE\n",
       "...              ...          ...               ...     ...  ..\n",
       "50365        2236240       204534     Tabata Amaral     PDT  SP\n",
       "50366        2236238        73531      Ivan Valente    PSOL  SP\n",
       "50371        2236222       204429    João H. Campos     PSB  PE\n",
       "50374        2116186       178956  Mariana Carvalho    PSDB  RO\n",
       "50375        2077498       141383   Antonio Bulhões     PRB  SP\n",
       "\n",
       "[42857 rows x 5 columns]"
      ]
     },
     "execution_count": 205,
     "metadata": {},
     "output_type": "execute_result"
    }
   ],
   "source": [
    "path_gastos = 'https://github.com/mauroslima/dados/raw/main/2020.xlsx'\n",
    "path_proposicoes = 'https://raw.githubusercontent.com/mauroslima/dados/main/proposicoes_2020.csv'\n",
    "df_gastos = pd.read_excel(path_gastos, na_values=' ', dtype={'cpf':np.str, 'ideCadastro':np.str})\n",
    "df_gastos.drop(['ideCadastro', 'numSubCota', 'cpf', 'nuLegislatura', 'codLegislatura', \n",
    "                'numEspecificacaoSubCota', 'vlrGlosa', 'numParcela', 'txtPassageiro', \n",
    "                'txtTrecho', 'numLote', 'ideDocumento', 'urlDocumento', 'numRessarcimento', \n",
    "                'vlrRestituicao', 'nuCarteiraParlamentar', 'txtDescricaoEspecificacao', \n",
    "                'txtNumero', 'indTipoDocumento' ], inplace=True, axis=1)\n",
    "df_gastos.rename(columns={'txNomeParlamentar':'parlamentar', 'sgUF': 'UF', 'sgPartido':\n",
    "                          'partido', 'txtDescricao': 'descricao', 'txtFornecedor':'fornecedor',\n",
    "                          'txtCNPJCPF':'CPF/CNPJ', 'datEmissao':'data_emissao', \n",
    "                          'vlrDocumento':'valor', 'vlrLiquido':'valor_liquido', 'numMes': 'mes', \n",
    "                          'numAno':'ano','nuDeputadoId':'deputado_id' }, inplace=True)\n",
    "df_gastos = df_gastos.dropna(how='any',axis=0)\n",
    "df_gastos\n",
    "df_proposicoes = pd.read_csv(path_proposicoes, delimiter=';')\n",
    "df_proposicoes = df_proposicoes.dropna(how='any',axis=0)\n",
    "df_proposicoes['idDeputadoAutor'] = df_proposicoes['idDeputadoAutor'].astype(int)\n",
    "df_proposicoes.rename(columns={'idDeputadoAutor':'id_deputado', 'nomeAutor': 'nome_deputado', 'siglaPartidoAutor':'partido', 'siglaUFAutor':'UF','idProposicao':'id_proposicao' }, inplace=True)\n",
    "df_proposicoes.drop(['uriProposicao', 'uriAutor', 'codTipoAutor', 'uriPartidoAutor', 'ordemAssinatura', 'proponente', 'tipoAutor'], inplace=True, axis=1)\n",
    "df_proposicoes"
   ]
  },
  {
   "cell_type": "code",
   "execution_count": 267,
   "metadata": {
    "deletable": false,
    "nbgrader": {
     "cell_type": "code",
     "checksum": "0bc4dbb79aa45bd2dda25e7a19cb8c46",
     "grade": true,
     "grade_id": "cell-4727d55417ba9b09",
     "locked": false,
     "points": 1,
     "schema_version": 3,
     "solution": true,
     "task": false
    }
   },
   "outputs": [
    {
     "data": {
      "text/html": [
       "<div>\n",
       "<style scoped>\n",
       "    .dataframe tbody tr th:only-of-type {\n",
       "        vertical-align: middle;\n",
       "    }\n",
       "\n",
       "    .dataframe tbody tr th {\n",
       "        vertical-align: top;\n",
       "    }\n",
       "\n",
       "    .dataframe thead th {\n",
       "        text-align: right;\n",
       "    }\n",
       "</style>\n",
       "<table border=\"1\" class=\"dataframe\">\n",
       "  <thead>\n",
       "    <tr style=\"text-align: right;\">\n",
       "      <th></th>\n",
       "      <th>parlamentar</th>\n",
       "      <th>partido</th>\n",
       "      <th>valor_liquido</th>\n",
       "    </tr>\n",
       "  </thead>\n",
       "  <tbody>\n",
       "    <tr>\n",
       "      <th>0</th>\n",
       "      <td>João Maia</td>\n",
       "      <td>PL</td>\n",
       "      <td>471198.46</td>\n",
       "    </tr>\n",
       "    <tr>\n",
       "      <th>1</th>\n",
       "      <td>Jesus Sérgio</td>\n",
       "      <td>PDT</td>\n",
       "      <td>444583.48</td>\n",
       "    </tr>\n",
       "    <tr>\n",
       "      <th>2</th>\n",
       "      <td>Manuel Marcos</td>\n",
       "      <td>REPUBLICANOS</td>\n",
       "      <td>443124.03</td>\n",
       "    </tr>\n",
       "    <tr>\n",
       "      <th>3</th>\n",
       "      <td>Wellington Roberto</td>\n",
       "      <td>PL</td>\n",
       "      <td>441890.36</td>\n",
       "    </tr>\n",
       "    <tr>\n",
       "      <th>4</th>\n",
       "      <td>Marcelo Ramos</td>\n",
       "      <td>PL</td>\n",
       "      <td>438660.79</td>\n",
       "    </tr>\n",
       "  </tbody>\n",
       "</table>\n",
       "</div>"
      ],
      "text/plain": [
       "          parlamentar       partido  valor_liquido\n",
       "0           João Maia            PL      471198.46\n",
       "1        Jesus Sérgio           PDT      444583.48\n",
       "2       Manuel Marcos  REPUBLICANOS      443124.03\n",
       "3  Wellington Roberto            PL      441890.36\n",
       "4       Marcelo Ramos            PL      438660.79"
      ]
     },
     "execution_count": 267,
     "metadata": {},
     "output_type": "execute_result"
    }
   ],
   "source": [
    "gastos_deputados = df_gastos.groupby(['parlamentar', 'partido']).agg({'valor_liquido': 'sum'}\n",
    "                                                 ).sort_values(by='valor_liquido', \n",
    "                                                               ascending=False).head(5)\n",
    "gastos_deputados.reset_index(inplace=True)\n",
    "gastos_deputados"
   ]
  },
  {
   "cell_type": "code",
   "execution_count": 344,
   "metadata": {},
   "outputs": [
    {
     "data": {
      "text/html": [
       "<div>\n",
       "<style scoped>\n",
       "    .dataframe tbody tr th:only-of-type {\n",
       "        vertical-align: middle;\n",
       "    }\n",
       "\n",
       "    .dataframe tbody tr th {\n",
       "        vertical-align: top;\n",
       "    }\n",
       "\n",
       "    .dataframe thead th {\n",
       "        text-align: right;\n",
       "    }\n",
       "</style>\n",
       "<table border=\"1\" class=\"dataframe\">\n",
       "  <thead>\n",
       "    <tr style=\"text-align: right;\">\n",
       "      <th></th>\n",
       "      <th>partido</th>\n",
       "      <th>valor_liquido</th>\n",
       "    </tr>\n",
       "  </thead>\n",
       "  <tbody>\n",
       "    <tr>\n",
       "      <th>0</th>\n",
       "      <td>PT</td>\n",
       "      <td>13780670.74</td>\n",
       "    </tr>\n",
       "    <tr>\n",
       "      <th>1</th>\n",
       "      <td>PSL</td>\n",
       "      <td>11284155.40</td>\n",
       "    </tr>\n",
       "    <tr>\n",
       "      <th>2</th>\n",
       "      <td>PL</td>\n",
       "      <td>10076545.47</td>\n",
       "    </tr>\n",
       "    <tr>\n",
       "      <th>3</th>\n",
       "      <td>PP</td>\n",
       "      <td>9263400.79</td>\n",
       "    </tr>\n",
       "    <tr>\n",
       "      <th>4</th>\n",
       "      <td>MDB</td>\n",
       "      <td>8506840.99</td>\n",
       "    </tr>\n",
       "    <tr>\n",
       "      <th>5</th>\n",
       "      <td>PSD</td>\n",
       "      <td>8257598.71</td>\n",
       "    </tr>\n",
       "    <tr>\n",
       "      <th>6</th>\n",
       "      <td>REPUBLICANOS</td>\n",
       "      <td>8198290.56</td>\n",
       "    </tr>\n",
       "    <tr>\n",
       "      <th>7</th>\n",
       "      <td>PSDB</td>\n",
       "      <td>7792214.49</td>\n",
       "    </tr>\n",
       "    <tr>\n",
       "      <th>8</th>\n",
       "      <td>PDT</td>\n",
       "      <td>7500483.36</td>\n",
       "    </tr>\n",
       "    <tr>\n",
       "      <th>9</th>\n",
       "      <td>DEM</td>\n",
       "      <td>6829305.53</td>\n",
       "    </tr>\n",
       "  </tbody>\n",
       "</table>\n",
       "</div>"
      ],
      "text/plain": [
       "        partido  valor_liquido\n",
       "0            PT    13780670.74\n",
       "1           PSL    11284155.40\n",
       "2            PL    10076545.47\n",
       "3            PP     9263400.79\n",
       "4           MDB     8506840.99\n",
       "5           PSD     8257598.71\n",
       "6  REPUBLICANOS     8198290.56\n",
       "7          PSDB     7792214.49\n",
       "8           PDT     7500483.36\n",
       "9           DEM     6829305.53"
      ]
     },
     "execution_count": 344,
     "metadata": {},
     "output_type": "execute_result"
    }
   ],
   "source": [
    "gastos_partidos = df_gastos.groupby(['partido']).agg({'valor_liquido': 'sum'}).sort_values(by='valor_liquido', ascending=False).head(10)\n",
    "gastos_partidos.reset_index(inplace=True)\n",
    "gastos_partidos"
   ]
  },
  {
   "cell_type": "code",
   "execution_count": 331,
   "metadata": {},
   "outputs": [
    {
     "data": {
      "text/html": [
       "<div>\n",
       "<style scoped>\n",
       "    .dataframe tbody tr th:only-of-type {\n",
       "        vertical-align: middle;\n",
       "    }\n",
       "\n",
       "    .dataframe tbody tr th {\n",
       "        vertical-align: top;\n",
       "    }\n",
       "\n",
       "    .dataframe thead th {\n",
       "        text-align: right;\n",
       "    }\n",
       "</style>\n",
       "<table border=\"1\" class=\"dataframe\">\n",
       "  <thead>\n",
       "    <tr style=\"text-align: right;\">\n",
       "      <th></th>\n",
       "      <th>nome_deputado</th>\n",
       "      <th>partido</th>\n",
       "      <th>0</th>\n",
       "    </tr>\n",
       "  </thead>\n",
       "  <tbody>\n",
       "    <tr>\n",
       "      <th>0</th>\n",
       "      <td>Enio Verri</td>\n",
       "      <td>PT</td>\n",
       "      <td>1326</td>\n",
       "    </tr>\n",
       "    <tr>\n",
       "      <th>1</th>\n",
       "      <td>Alessandro Molon</td>\n",
       "      <td>PSB</td>\n",
       "      <td>981</td>\n",
       "    </tr>\n",
       "    <tr>\n",
       "      <th>2</th>\n",
       "      <td>Erika Kokay</td>\n",
       "      <td>PT</td>\n",
       "      <td>827</td>\n",
       "    </tr>\n",
       "    <tr>\n",
       "      <th>3</th>\n",
       "      <td>Wolney Queiroz</td>\n",
       "      <td>PDT</td>\n",
       "      <td>819</td>\n",
       "    </tr>\n",
       "    <tr>\n",
       "      <th>4</th>\n",
       "      <td>Fernanda Melchionna</td>\n",
       "      <td>PSOL</td>\n",
       "      <td>690</td>\n",
       "    </tr>\n",
       "    <tr>\n",
       "      <th>5</th>\n",
       "      <td>Perpétua Almeida</td>\n",
       "      <td>PCdoB</td>\n",
       "      <td>567</td>\n",
       "    </tr>\n",
       "    <tr>\n",
       "      <th>6</th>\n",
       "      <td>Patrus Ananias</td>\n",
       "      <td>PT</td>\n",
       "      <td>562</td>\n",
       "    </tr>\n",
       "    <tr>\n",
       "      <th>7</th>\n",
       "      <td>Jorge Solla</td>\n",
       "      <td>PT</td>\n",
       "      <td>546</td>\n",
       "    </tr>\n",
       "    <tr>\n",
       "      <th>8</th>\n",
       "      <td>Ivan Valente</td>\n",
       "      <td>PSOL</td>\n",
       "      <td>497</td>\n",
       "    </tr>\n",
       "    <tr>\n",
       "      <th>9</th>\n",
       "      <td>José Guimarães</td>\n",
       "      <td>PT</td>\n",
       "      <td>494</td>\n",
       "    </tr>\n",
       "  </tbody>\n",
       "</table>\n",
       "</div>"
      ],
      "text/plain": [
       "         nome_deputado partido     0\n",
       "0           Enio Verri      PT  1326\n",
       "1     Alessandro Molon     PSB   981\n",
       "2          Erika Kokay      PT   827\n",
       "3       Wolney Queiroz     PDT   819\n",
       "4  Fernanda Melchionna    PSOL   690\n",
       "5     Perpétua Almeida   PCdoB   567\n",
       "6       Patrus Ananias      PT   562\n",
       "7          Jorge Solla      PT   546\n",
       "8         Ivan Valente    PSOL   497\n",
       "9       José Guimarães      PT   494"
      ]
     },
     "execution_count": 331,
     "metadata": {},
     "output_type": "execute_result"
    }
   ],
   "source": [
    "proposicoes_deputado = df_proposicoes.groupby(['nome_deputado', 'partido']).size().sort_values(ascending=False).head(10)\n",
    "proposicoes_deputado = proposicoes_deputado.to_frame()\n",
    "proposicoes_deputado.reset_index(inplace=True)\n",
    "proposicoes_deputado\n",
    "\n"
   ]
  },
  {
   "cell_type": "code",
   "execution_count": 340,
   "metadata": {},
   "outputs": [
    {
     "data": {
      "text/plain": [
       "Index(['partido', 'qtd_proposicoes'], dtype='object')"
      ]
     },
     "execution_count": 340,
     "metadata": {},
     "output_type": "execute_result"
    }
   ],
   "source": [
    "proposicoes_partido = df_proposicoes.groupby('partido').size().sort_values(ascending=False).head(10)\n",
    "proposicoes_partido = proposicoes_partido.to_frame()\n",
    "proposicoes_partido.reset_index(inplace=True)\n",
    "proposicoes_partido.rename(columns={0:'qtd_proposicoes'},inplace=True)\n",
    "proposicoes_partido.columns\n"
   ]
  },
  {
   "cell_type": "code",
   "execution_count": 317,
   "metadata": {},
   "outputs": [
    {
     "data": {
      "text/html": [
       "<div>\n",
       "<style scoped>\n",
       "    .dataframe tbody tr th:only-of-type {\n",
       "        vertical-align: middle;\n",
       "    }\n",
       "\n",
       "    .dataframe tbody tr th {\n",
       "        vertical-align: top;\n",
       "    }\n",
       "\n",
       "    .dataframe thead th {\n",
       "        text-align: right;\n",
       "    }\n",
       "</style>\n",
       "<table border=\"1\" class=\"dataframe\">\n",
       "  <thead>\n",
       "    <tr style=\"text-align: right;\">\n",
       "      <th></th>\n",
       "      <th>valor_liquido</th>\n",
       "    </tr>\n",
       "    <tr>\n",
       "      <th>partido</th>\n",
       "      <th></th>\n",
       "    </tr>\n",
       "  </thead>\n",
       "  <tbody>\n",
       "    <tr>\n",
       "      <th>PT</th>\n",
       "      <td>13780670.74</td>\n",
       "    </tr>\n",
       "    <tr>\n",
       "      <th>PSL</th>\n",
       "      <td>11284155.40</td>\n",
       "    </tr>\n",
       "    <tr>\n",
       "      <th>PL</th>\n",
       "      <td>10076545.47</td>\n",
       "    </tr>\n",
       "    <tr>\n",
       "      <th>PP</th>\n",
       "      <td>9263400.79</td>\n",
       "    </tr>\n",
       "    <tr>\n",
       "      <th>MDB</th>\n",
       "      <td>8506840.99</td>\n",
       "    </tr>\n",
       "    <tr>\n",
       "      <th>PSD</th>\n",
       "      <td>8257598.71</td>\n",
       "    </tr>\n",
       "    <tr>\n",
       "      <th>REPUBLICANOS</th>\n",
       "      <td>8198290.56</td>\n",
       "    </tr>\n",
       "    <tr>\n",
       "      <th>PSDB</th>\n",
       "      <td>7792214.49</td>\n",
       "    </tr>\n",
       "    <tr>\n",
       "      <th>PDT</th>\n",
       "      <td>7500483.36</td>\n",
       "    </tr>\n",
       "    <tr>\n",
       "      <th>DEM</th>\n",
       "      <td>6829305.53</td>\n",
       "    </tr>\n",
       "  </tbody>\n",
       "</table>\n",
       "</div>"
      ],
      "text/plain": [
       "              valor_liquido\n",
       "partido                    \n",
       "PT              13780670.74\n",
       "PSL             11284155.40\n",
       "PL              10076545.47\n",
       "PP               9263400.79\n",
       "MDB              8506840.99\n",
       "PSD              8257598.71\n",
       "REPUBLICANOS     8198290.56\n",
       "PSDB             7792214.49\n",
       "PDT              7500483.36\n",
       "DEM              6829305.53"
      ]
     },
     "execution_count": 317,
     "metadata": {},
     "output_type": "execute_result"
    }
   ],
   "source": [
    "gastos_partidos = df_gastos.groupby(['partido']).agg({'valor_liquido': 'sum'}).sort_values(by='valor_liquido', ascending=False).head(10)\n",
    "gastos_partidos"
   ]
  },
  {
   "cell_type": "markdown",
   "metadata": {},
   "source": [
    "### Conclusões e Achados"
   ]
  },
  {
   "cell_type": "code",
   "execution_count": 350,
   "metadata": {
    "deletable": false,
    "nbgrader": {
     "cell_type": "code",
     "checksum": "ed8f7ca2c43fce1ff35f8abec6e508ae",
     "grade": true,
     "grade_id": "cell-06eb20edabcbb6c1",
     "locked": false,
     "points": 1,
     "schema_version": 3,
     "solution": true,
     "task": false
    }
   },
   "outputs": [
    {
     "data": {
      "image/png": "[encoded data removed]",
      "text/plain": [
       "<Figure size 720x360 with 1 Axes>"
      ]
     },
     "metadata": {},
     "output_type": "display_data"
    }
   ],
   "source": [
    "g_partido = sns.catplot(x='partido', y='valor_liquido', data=gastos_partidos, kind='bar',\n",
    "                        aspect=2, palette=sns.color_palette('Blues_r', 10))\n",
    "g_partido.fig.suptitle(\"Gastos Por Partido\", y=1.05)\n",
    "g_partido.set(xlabel=\"Partido\",ylabel=\"Gasto Total\")\n",
    "plt.show()"
   ]
  },
  {
   "cell_type": "code",
   "execution_count": 351,
   "metadata": {},
   "outputs": [
    {
     "data": {
      "image/png": "[encoded data removed]",
      "text/plain": [
       "<Figure size 648x432 with 1 Axes>"
      ]
     },
     "metadata": {},
     "output_type": "display_data"
    }
   ],
   "source": [
    "g_deputados = sns.catplot(x='partido', y='qtd_proposicoes',data=proposicoes_partido, kind=\"bar\",\n",
    "                        aspect=1.5,  palette=\"gist_earth\", alpha=.6, height=6)\n",
    "g_deputados.fig.suptitle(\"Proposições por Partido\", y=1.05)\n",
    "g_deputados.set(xlabel=\"Partido\",ylabel=\"Proposições\")\n",
    "plt.show()"
   ]
  },
  {
   "cell_type": "code",
   "execution_count": null,
   "metadata": {},
   "outputs": [],
   "source": []
  },
  {
   "cell_type": "code",
   "execution_count": null,
   "metadata": {},
   "outputs": [],
   "source": []
  }
 ],
 "metadata": {
  "kernelspec": {
   "display_name": "Python 3",
   "language": "python",
   "name": "python3"
  },
  "language_info": {
   "codemirror_mode": {
    "name": "ipython",
    "version": 3
   },
   "file_extension": ".py",
   "mimetype": "text/x-python",
   "name": "python",
   "nbconvert_exporter": "python",
   "pygments_lexer": "ipython3",
   "version": "3.8.6"
  }
 },
 "nbformat": 4,
 "nbformat_minor": 4
}
